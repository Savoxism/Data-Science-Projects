{
  "cells": [
    {
      "cell_type": "markdown",
      "metadata": {
        "id": "ka_FkvXBiABo"
      },
      "source": [
        "# Introduction"
      ]
    },
    {
      "cell_type": "markdown",
      "metadata": {
        "id": "AWaMmfxXa-p0",
        "papermill": {
          "duration": 0.035434,
          "end_time": "2020-10-20T21:34:01.886225",
          "exception": false,
          "start_time": "2020-10-20T21:34:01.850791",
          "status": "completed"
        },
        "tags": []
      },
      "source": [
        "<center><img src=\"https://i.imgur.com/9hLRsjZ.jpg\" height=400></center>\n",
        "\n",
        "This dataset was scraped from [nextspaceflight.com](https://nextspaceflight.com/launches/past/?page=1) and includes all the space missions since the beginning of Space Race between the USA and the Soviet Union in 1957!"
      ]
    },
    {
      "cell_type": "markdown",
      "metadata": {
        "id": "ufzKRKS3bV0r"
      },
      "source": [
        "### Install Package with Country Codes"
      ]
    },
    {
      "cell_type": "code",
      "execution_count": null,
      "metadata": {
        "colab": {
          "base_uri": "https://localhost:8080/"
        },
        "id": "0HxV9o6dbRUE",
        "outputId": "35464d43-d601-4b8f-81fd-6dbd400167f5"
      },
      "outputs": [],
      "source": [
        "%pip install iso3166"
      ]
    },
    {
      "cell_type": "markdown",
      "metadata": {
        "id": "sghkhFoLbof8"
      },
      "source": [
        "### Upgrade Plotly\n",
        "\n",
        "Run the cell below if you are working with Google Colab."
      ]
    },
    {
      "cell_type": "code",
      "execution_count": null,
      "metadata": {
        "colab": {
          "base_uri": "https://localhost:8080/"
        },
        "id": "gQ61wy9gbmxd",
        "outputId": "99185d87-acb8-4237-c0f7-bfb18bfd4d39"
      },
      "outputs": [],
      "source": [
        "%pip install --upgrade plotly"
      ]
    },
    {
      "cell_type": "markdown",
      "metadata": {
        "id": "ErFDBihUi1jN"
      },
      "source": [
        "### Import Statements"
      ]
    },
    {
      "cell_type": "code",
      "execution_count": null,
      "metadata": {
        "_cell_guid": "b1076dfc-b9ad-4769-8c92-a6c4dae69d19",
        "_kg_hide-input": true,
        "_kg_hide-output": true,
        "_uuid": "8f2839f25d086af736a60e9eeb907d3b93b6e0e5",
        "colab": {
          "base_uri": "https://localhost:8080/"
        },
        "execution": {
          "iopub.execute_input": "2020-10-20T21:34:02.101551Z",
          "iopub.status.busy": "2020-10-20T21:34:02.101085Z",
          "iopub.status.idle": "2020-10-20T21:34:03.726868Z",
          "shell.execute_reply": "2020-10-20T21:34:03.725783Z"
        },
        "id": "xdolY0-Sa-p1",
        "outputId": "7142dedb-82e9-457d-db44-cea4e121bdfe",
        "papermill": {
          "duration": 1.665326,
          "end_time": "2020-10-20T21:34:03.726995",
          "exception": false,
          "start_time": "2020-10-20T21:34:02.061669",
          "status": "completed"
        },
        "tags": []
      },
      "outputs": [],
      "source": [
        "import numpy as np\n",
        "import pandas as pd\n",
        "import plotly.express as px\n",
        "import matplotlib.pyplot as plt\n",
        "import seaborn as sns\n",
        "\n",
        "# These might be helpful:\n",
        "from iso3166 import countries\n",
        "from datetime import datetime, timedelta"
      ]
    },
    {
      "cell_type": "markdown",
      "metadata": {
        "id": "lovGPRgKxIgo"
      },
      "source": [
        "### Notebook Presentation"
      ]
    },
    {
      "cell_type": "code",
      "execution_count": null,
      "metadata": {
        "id": "DHEULCOjxIIm"
      },
      "outputs": [],
      "source": [
        "pd.options.display.float_format = '{:,.2f}'.format"
      ]
    },
    {
      "cell_type": "markdown",
      "metadata": {
        "id": "yaT3QbjEa-p4",
        "papermill": {
          "duration": 0.034606,
          "end_time": "2020-10-20T21:34:03.798396",
          "exception": false,
          "start_time": "2020-10-20T21:34:03.763790",
          "status": "completed"
        },
        "tags": []
      },
      "source": [
        "### Load the Data"
      ]
    },
    {
      "cell_type": "code",
      "execution_count": null,
      "metadata": {
        "_cell_guid": "79c7e3d0-c299-4dcb-8224-4455121ee9b0",
        "_kg_hide-input": true,
        "_uuid": "d629ff2d2480ee46fbb7e2d37f6b5fab8052498a",
        "execution": {
          "iopub.execute_input": "2020-10-20T21:34:03.874195Z",
          "iopub.status.busy": "2020-10-20T21:34:03.873775Z",
          "iopub.status.idle": "2020-10-20T21:34:03.921919Z",
          "shell.execute_reply": "2020-10-20T21:34:03.921418Z"
        },
        "id": "0lDOu8aka-p4",
        "papermill": {
          "duration": 0.08876,
          "end_time": "2020-10-20T21:34:03.922028",
          "exception": false,
          "start_time": "2020-10-20T21:34:03.833268",
          "status": "completed"
        },
        "tags": []
      },
      "outputs": [],
      "source": [
        "df = pd.read_csv('mission_launches.csv')"
      ]
    },
    {
      "cell_type": "markdown",
      "metadata": {
        "id": "jAnMiVcVjuKB"
      },
      "source": [
        "# Preliminary Data Exploration\n",
        "\n",
        "* What is the shape of `df_data`? \n",
        "* How many rows and columns does it have?\n",
        "* What are the column names?\n",
        "* Are there any NaN values or duplicates?"
      ]
    },
    {
      "cell_type": "code",
      "execution_count": null,
      "metadata": {
        "id": "0tIuYcYNlPFQ"
      },
      "outputs": [],
      "source": [
        "df.head(15)"
      ]
    },
    {
      "cell_type": "code",
      "execution_count": null,
      "metadata": {
        "id": "0dw2hd9UlPmP"
      },
      "outputs": [],
      "source": [
        "df.isnull().sum()"
      ]
    },
    {
      "cell_type": "markdown",
      "metadata": {
        "id": "KUN30y6ja-p9",
        "papermill": {
          "duration": 0.05406,
          "end_time": "2020-10-20T21:34:04.149973",
          "exception": false,
          "start_time": "2020-10-20T21:34:04.095913",
          "status": "completed"
        },
        "tags": []
      },
      "source": [
        "## Data Cleaning - Check for Missing Values and Duplicates\n",
        "\n",
        "Consider removing columns containing junk data. "
      ]
    },
    {
      "cell_type": "code",
      "execution_count": null,
      "metadata": {
        "id": "wWQvnJb0k2Ig"
      },
      "outputs": [],
      "source": [
        "# Drop rows with missing values\n",
        "df.dropna(inplace=True) "
      ]
    },
    {
      "cell_type": "code",
      "execution_count": null,
      "metadata": {
        "id": "SfxVooCYk2As"
      },
      "outputs": [],
      "source": [
        "df.drop('Rocket_Status', axis=1,inplace=True)\n",
        "df.drop('Unnamed: 0', axis=1,inplace=True)\n",
        "df.drop('Unnamed: 0.1', axis=1,inplace=True)\n",
        "df.drop('Detail', axis=1, inplace=True) "
      ]
    },
    {
      "cell_type": "code",
      "execution_count": null,
      "metadata": {},
      "outputs": [],
      "source": [
        "df.tail(12)"
      ]
    },
    {
      "cell_type": "markdown",
      "metadata": {
        "id": "QHon_T5sa-p_",
        "papermill": {
          "duration": 0.036712,
          "end_time": "2020-10-20T21:34:05.227032",
          "exception": false,
          "start_time": "2020-10-20T21:34:05.190320",
          "status": "completed"
        },
        "tags": []
      },
      "source": [
        "## Descriptive Statistics"
      ]
    },
    {
      "cell_type": "code",
      "execution_count": null,
      "metadata": {
        "id": "Fh1-libjkJIK"
      },
      "outputs": [],
      "source": [
        "df.describe()"
      ]
    },
    {
      "cell_type": "code",
      "execution_count": null,
      "metadata": {
        "id": "dGZa5HdbkJBT"
      },
      "outputs": [],
      "source": [
        "df.info()"
      ]
    },
    {
      "cell_type": "markdown",
      "metadata": {
        "id": "cgCjcpeUkKPW"
      },
      "source": [
        "# Number of Launches per Company\n",
        "\n",
        "Create a chart that shows the number of space mission launches by organisation."
      ]
    },
    {
      "cell_type": "code",
      "execution_count": null,
      "metadata": {
        "id": "rxvcIrtskxYB"
      },
      "outputs": [],
      "source": [
        "launch_counts = df['Organisation'].value_counts()"
      ]
    },
    {
      "cell_type": "code",
      "execution_count": null,
      "metadata": {
        "id": "qgneHUbWkw5v"
      },
      "outputs": [],
      "source": [
        "plt.figure(figsize=(12, 6))\n",
        "launch_counts.plot(kind='bar')\n",
        "plt.title('Number of Space Mission Launches by Organization')\n",
        "plt.xlabel('Organization')\n",
        "plt.ylabel('Number of Launches')\n",
        "plt.xticks(rotation=45, ha='right')\n",
        "plt.tight_layout()\n",
        "plt.show()\n",
        "# print(launch_counts)"
      ]
    },
    {
      "cell_type": "markdown",
      "metadata": {
        "id": "y9WtP5xWkYkp"
      },
      "source": [
        "# Distribution of Mission Status\n",
        "\n",
        "How many missions were successful?\n",
        "How many missions failed?"
      ]
    },
    {
      "cell_type": "code",
      "execution_count": null,
      "metadata": {
        "id": "83kY1alqmUhb"
      },
      "outputs": [],
      "source": [
        "missions = df['Mission_Status'].value_counts()\n",
        "missions"
      ]
    },
    {
      "cell_type": "code",
      "execution_count": null,
      "metadata": {
        "id": "bdmXcaopmUeZ"
      },
      "outputs": [],
      "source": [
        "successful_missions = df['Mission_Status'].value_counts()['Success']\n",
        "failed_missions = df['Mission_Status'].value_counts()['Failure'] + df['Mission_Status'].value_counts()['Partial Failure'] + df['Mission_Status'].value_counts()['Prelaunch Failure']\n",
        "\n",
        "print(f\"Success: {successful_missions}\")\n",
        "print(f\"Failure: {failed_missions}\")"
      ]
    },
    {
      "cell_type": "code",
      "execution_count": null,
      "metadata": {},
      "outputs": [],
      "source": [
        "success_rate = successful_missions / (successful_missions + failed_missions) * 100\n",
        "failure_rate = failed_missions / (successful_missions + failed_missions) * 100\n",
        "success_rate, failure_rate"
      ]
    },
    {
      "cell_type": "markdown",
      "metadata": {
        "id": "jgTCihuoa-qH",
        "papermill": {
          "duration": 0.03854,
          "end_time": "2020-10-20T21:34:05.968626",
          "exception": false,
          "start_time": "2020-10-20T21:34:05.930086",
          "status": "completed"
        },
        "tags": []
      },
      "source": [
        "# How Expensive are the Launches? \n",
        "\n",
        "Create a histogram and visualise the distribution. The price column is given in USD millions (careful of missing values). "
      ]
    },
    {
      "cell_type": "code",
      "execution_count": null,
      "metadata": {
        "id": "PLOMhzZFnSCO"
      },
      "outputs": [],
      "source": [
        "df['Price'] = pd.to_numeric(df['Price'], errors='coerce')\n",
        "df['Price'] = df['Price'].fillna(0)\n",
        "print(\"\\nUnique values in Price column:\")\n",
        "print(df['Price'].unique())"
      ]
    },
    {
      "cell_type": "code",
      "execution_count": null,
      "metadata": {
        "id": "ru0IcY4nnSFU"
      },
      "outputs": [],
      "source": [
        "# Create the histogram\n",
        "plt.figure(figsize=(10, 6))\n",
        "df['Price'].hist(bins=20, edgecolor='black')\n",
        "plt.title('Distribution of Space Mission Prices')\n",
        "plt.xlabel('Price (USD Millions)')\n",
        "plt.ylabel('Frequency')\n",
        "plt.grid(axis='y', alpha=0.75)\n",
        "\n",
        "# Add a vertical line for the mean price\n",
        "mean_price = df['Price'].mean()\n",
        "plt.axvline(mean_price, color='red', linestyle='dashed', linewidth=2, label=f'Mean: {mean_price:.2f}M')\n",
        "\n",
        "plt.legend()\n",
        "plt.tight_layout()\n",
        "plt.show()"
      ]
    },
    {
      "cell_type": "markdown",
      "metadata": {
        "id": "QiNtigQDne3E"
      },
      "source": [
        "# Use a Choropleth Map to Show the Number of Launches by Country\n",
        "\n",
        "* Create a choropleth map using [the plotly documentation](https://plotly.com/python/choropleth-maps/)\n",
        "* Experiment with [plotly's available colours](https://plotly.com/python/builtin-colorscales/). I quite like the sequential colour `matter` on this map. \n",
        "* You'll need to extract a `country` feature as well as change the country names that no longer exist.\n",
        "\n",
        "Wrangle the Country Names\n",
        "\n",
        "You'll need to use a 3 letter country code for each country. You might have to change some country names.\n",
        "\n",
        "* Russia is the Russian Federation\n",
        "* New Mexico should be USA\n",
        "* Yellow Sea refers to China\n",
        "* Shahrud Missile Test Site should be Iran\n",
        "* Pacific Missile Range Facility should be USA\n",
        "* Barents Sea should be Russian Federation\n",
        "* Gran Canaria should be USA\n",
        "\n",
        "\n",
        "You can use the iso3166 package to convert the country names to Alpha3 format."
      ]
    },
    {
      "cell_type": "code",
      "execution_count": null,
      "metadata": {
        "id": "Y46-4GHrozhF"
      },
      "outputs": [],
      "source": [
        "# Function to get Alpha3 code\n",
        "def get_alpha3(country_name):\n",
        "    try:\n",
        "        return countries.get(country_name).alpha3\n",
        "    except:\n",
        "        return None\n",
        "    \n",
        "# Country name corrections\n",
        "country_corrections = {\n",
        "    'Russia': 'Russian Federation',\n",
        "    'New Mexico': 'USA',\n",
        "    'Yellow Sea': 'China',\n",
        "    'Shahrud Missile Test Site': 'Iran',\n",
        "    'Pacific Missile Range Facility': 'USA',\n",
        "    'Barents Sea': 'Russian Federation',\n",
        "    'Gran Canaria': 'USA'\n",
        "}"
      ]
    },
    {
      "cell_type": "code",
      "execution_count": null,
      "metadata": {
        "id": "ESGRWiX6ozZG"
      },
      "outputs": [],
      "source": [
        "df['Country'] = df['Location'].str.split(',').str[-1].str.strip()\n",
        "df['Country'] = df['Country'].replace(country_corrections)\n",
        "\n",
        "df['Country_Code'] = df['Country'].apply(get_alpha3)"
      ]
    },
    {
      "cell_type": "code",
      "execution_count": null,
      "metadata": {},
      "outputs": [],
      "source": [
        "country_counts = df['Country_Code'].value_counts().reset_index()\n",
        "country_counts.columns = ['Country_Code', 'Mission_Count']"
      ]
    },
    {
      "cell_type": "code",
      "execution_count": null,
      "metadata": {},
      "outputs": [],
      "source": [
        "# Create the choropleth map\n",
        "fig = px.choropleth(country_counts, \n",
        "                    locations=\"Country_Code\", \n",
        "                    color=\"Mission_Count\",\n",
        "                    hover_name=\"Country_Code\", \n",
        "                    color_continuous_scale=\"matter\",\n",
        "                    title=\"Number of Space Missions by Country\")\n",
        "\n",
        "fig.show()"
      ]
    },
    {
      "cell_type": "markdown",
      "metadata": {
        "id": "F3pwYSUlo_AK"
      },
      "source": [
        "# Use a Choropleth Map to Show the Number of Failures by Country\n"
      ]
    },
    {
      "cell_type": "code",
      "execution_count": null,
      "metadata": {
        "id": "8BH4ICtro9I0"
      },
      "outputs": [],
      "source": [
        "failed_missions = df[df['Mission_Status'] != 'Success']\n",
        "failure_counts = failed_missions['Country_Code'].value_counts().reset_index()\n",
        "failure_counts.columns = ['Country_Code', 'Failure_Count']"
      ]
    },
    {
      "cell_type": "code",
      "execution_count": null,
      "metadata": {
        "id": "sfw-q7Obo9GM"
      },
      "outputs": [],
      "source": [
        "# Create the choropleth map\n",
        "fig = px.choropleth(failure_counts, \n",
        "                    locations=\"Country_Code\", \n",
        "                    color=\"Failure_Count\",\n",
        "                    hover_name=\"Country_Code\", \n",
        "                    color_continuous_scale=\"matter\",\n",
        "                    title=\"Number of Failed Space Missions by Country\")\n",
        "\n",
        "fig.show()"
      ]
    },
    {
      "cell_type": "markdown",
      "metadata": {
        "id": "9LqcqSrKa-qN",
        "papermill": {
          "duration": 0.039343,
          "end_time": "2020-10-20T21:34:06.591694",
          "exception": false,
          "start_time": "2020-10-20T21:34:06.552351",
          "status": "completed"
        },
        "tags": []
      },
      "source": [
        "# Create a Plotly Sunburst Chart of the countries, organisations, and mission status. "
      ]
    },
    {
      "cell_type": "code",
      "execution_count": null,
      "metadata": {
        "id": "MwUfpoByo3_J"
      },
      "outputs": [],
      "source": [
        "sunburst_data = df.groupby(['Country_Code', 'Organisation', 'Mission_Status']).size().reset_index(name='Count')"
      ]
    },
    {
      "cell_type": "code",
      "execution_count": null,
      "metadata": {
        "id": "-ZwZkx1ro4X9"
      },
      "outputs": [],
      "source": [
        "fig = px.sunburst(\n",
        "    sunburst_data,\n",
        "    path=['Country_Code', 'Organisation', 'Mission_Status'],\n",
        "    values='Count',\n",
        "    title=\"Space Missions by Country, Organization, and Mission Status\",\n",
        "    color='Mission_Status',\n",
        "    color_discrete_map={'Success': 'green', 'Failure': 'red', 'Partial Failure': 'orange'}\n",
        ")\n",
        "\n",
        "fig.update_layout(\n",
        "    width=800,\n",
        "    height=800\n",
        ")\n",
        "\n",
        "fig.show()"
      ]
    },
    {
      "cell_type": "markdown",
      "metadata": {
        "id": "70pG1BCZa-qY",
        "papermill": {
          "duration": 0.062712,
          "end_time": "2020-10-20T21:34:07.951200",
          "exception": false,
          "start_time": "2020-10-20T21:34:07.888488",
          "status": "completed"
        },
        "tags": []
      },
      "source": [
        "# Analyse the Total Amount of Money Spent by Organisation on Space Missions"
      ]
    },
    {
      "cell_type": "code",
      "execution_count": null,
      "metadata": {
        "id": "IaJYxwEVpKHy"
      },
      "outputs": [],
      "source": [
        "total_amount_spent_per_org = df.groupby('Organisation')['Price'].sum().sort_values(ascending=False)"
      ]
    },
    {
      "cell_type": "code",
      "execution_count": null,
      "metadata": {
        "id": "orIFf-appPDL"
      },
      "outputs": [],
      "source": [
        "plt.figure(figsize=(12, 6))\n",
        "total_amount_spent_per_org.plot(kind='bar')\n",
        "plt.title('Total Amount Spent on Space Missions by Organization')\n",
        "plt.xlabel('Organization')\n",
        "plt.ylabel('Total Amount Spent (USD Millions)')\n",
        "plt.xticks(rotation=45, ha='right')\n",
        "plt.tight_layout()\n",
        "plt.show()"
      ]
    },
    {
      "cell_type": "markdown",
      "metadata": {
        "id": "DpsWkPxzpPXs"
      },
      "source": [
        "# Analyse the Amount of Money Spent by Organisation per Launch"
      ]
    },
    {
      "cell_type": "code",
      "execution_count": null,
      "metadata": {
        "id": "opYJ6GiRpTk5"
      },
      "outputs": [],
      "source": [
        "# df_data.drop('Country', axis=1, inplace=True)\n",
        "df.head(5)"
      ]
    },
    {
      "cell_type": "code",
      "execution_count": null,
      "metadata": {
        "id": "VEkHzAk2pTvj"
      },
      "outputs": [],
      "source": [
        "avg_price_per_org = df.groupby('Organisation')['Price'].agg(['mean', 'count']).reset_index()\n",
        "avg_price_per_org.columns = ['Organisation', 'Avg_Price', 'Launch_Count']\n",
        "avg_price_per_org = avg_price_per_org.sort_values('Avg_Price', ascending=False)\n"
      ]
    },
    {
      "cell_type": "code",
      "execution_count": null,
      "metadata": {
        "id": "R5rFf501pKXD"
      },
      "outputs": [],
      "source": [
        "# Create a bar chart\n",
        "fig = px.bar(avg_price_per_org, \n",
        "             x='Organisation', \n",
        "             y='Avg_Price',\n",
        "             text='Avg_Price',\n",
        "             hover_data=['Launch_Count'],\n",
        "             title='Average Money Spent per Launch by Organisation',\n",
        "             labels={'Avg_Price': 'Average Price per Launch (USD Millions)', 'Organisation': 'Organization'},\n",
        "             color='Avg_Price',\n",
        "             color_continuous_scale='Viridis')\n",
        "\n",
        "# Customize the layout\n",
        "fig.update_traces(texttemplate='%{text:.2f}', textposition='outside')\n",
        "fig.update_layout(uniformtext_minsize=8, uniformtext_mode='hide')\n",
        "fig.update_xaxes(tickangle=45)\n",
        "\n",
        "# Show the plot\n",
        "fig.show()"
      ]
    },
    {
      "cell_type": "code",
      "execution_count": null,
      "metadata": {},
      "outputs": [],
      "source": [
        "# Calculate and print total spent by all organizations\n",
        "total_spent = df['Price'].sum()\n",
        "print(f\"\\nTotal spent by all organizations: ${total_spent:.2f} million\")"
      ]
    },
    {
      "cell_type": "code",
      "execution_count": null,
      "metadata": {},
      "outputs": [],
      "source": [
        "# Find and print the organization with the highest total spend\n",
        "org_total_spend = df.groupby('Organisation')['Price'].sum().sort_values(ascending=False)\n",
        "highest_spend_org = org_total_spend.index[0]\n",
        "highest_spend_amount = org_total_spend.iloc[0]\n",
        "print(f\"\\nOrganization with the highest total spend: {highest_spend_org}\")\n",
        "print(f\"Amount spent by {highest_spend_org}: ${highest_spend_amount:.2f} million\")"
      ]
    },
    {
      "cell_type": "markdown",
      "metadata": {
        "id": "yRa1BbPoa-qf",
        "papermill": {
          "duration": 0.042662,
          "end_time": "2020-10-20T21:34:09.943196",
          "exception": false,
          "start_time": "2020-10-20T21:34:09.900534",
          "status": "completed"
        },
        "tags": []
      },
      "source": [
        "# Chart the Number of Launches per Year"
      ]
    },
    {
      "cell_type": "code",
      "execution_count": null,
      "metadata": {},
      "outputs": [],
      "source": [
        "df.drop('Location', axis=1, inplace=True)   "
      ]
    },
    {
      "cell_type": "code",
      "execution_count": null,
      "metadata": {},
      "outputs": [],
      "source": [
        "# # Function to parse the date and remove time\n",
        "# def parse_date(date_string):\n",
        "#     # Remove the time part (assuming it's always at the end after a space)\n",
        "#     date_only = ' '.join(date_string.split()[:4])\n",
        "#     return pd.to_datetime(date_only, format='%a %b %d, %Y')\n",
        "\n",
        "# # Convert the Date column to datetime and then directly to the desired format\n",
        "# df['Date'] = df['Date'].apply(parse_date)\n",
        "# df['Date'] = df['Date'].dt.strftime('%m/%Y')"
      ]
    },
    {
      "cell_type": "code",
      "execution_count": null,
      "metadata": {},
      "outputs": [],
      "source": [
        "# Function to parse the date and extract year\n",
        "def parse_date(date_string):\n",
        "    # Remove the time part and parse the date\n",
        "    date_only = ' '.join(date_string.split()[:4])\n",
        "    return pd.to_datetime(date_only, format='%a %b %d, %Y').year\n",
        "\n",
        "# Convert the Date column to year\n",
        "df['Year'] = df['Date'].apply(parse_date)\n",
        "\n",
        "# Count launches per year\n",
        "launches_per_year = df['Year'].value_counts().sort_index().reset_index()\n",
        "launches_per_year.columns = ['Year', 'Launches']"
      ]
    },
    {
      "cell_type": "code",
      "execution_count": null,
      "metadata": {},
      "outputs": [],
      "source": [
        "# Create the line chart\n",
        "plt.figure(figsize=(12, 6))\n",
        "plt.plot(launches_per_year['Year'], launches_per_year['Launches'], marker='o')\n",
        "plt.title('Number of Rocket Launches Per Year')\n",
        "plt.xlabel('Year')\n",
        "plt.ylabel('Number of Launches')\n",
        "plt.xticks(rotation=45)\n",
        "plt.tight_layout()\n",
        "plt.grid(True)\n",
        "plt.show()"
      ]
    },
    {
      "cell_type": "markdown",
      "metadata": {
        "id": "dPQ_N_sfa-qo",
        "papermill": {
          "duration": 0.067915,
          "end_time": "2020-10-20T21:34:11.122539",
          "exception": false,
          "start_time": "2020-10-20T21:34:11.054624",
          "status": "completed"
        },
        "tags": []
      },
      "source": [
        "# How has the Launch Price varied Over Time? \n",
        "\n",
        "Create a line chart that shows the average price of rocket launches over time. "
      ]
    },
    {
      "cell_type": "code",
      "execution_count": null,
      "metadata": {},
      "outputs": [],
      "source": [
        "# Calculate average price per year\n",
        "avg_price_per_year = df.groupby('Year')['Price'].mean().reset_index()\n",
        "# Create the line chart\n",
        "plt.figure(figsize=(12, 6))\n",
        "plt.plot(avg_price_per_year['Year'], avg_price_per_year['Price'], marker='o')\n",
        "plt.title('Average Price of Rocket Launches Over Time')\n",
        "plt.xlabel('Year')\n",
        "plt.ylabel('Average Price (millions USD)')\n",
        "plt.xticks(rotation=45)\n",
        "plt.tight_layout()\n",
        "plt.grid(True)\n",
        "\n",
        "# Format y-axis to display prices in millions\n",
        "plt.gca().yaxis.set_major_formatter(plt.FuncFormatter(lambda x, p: f'${x:.1f}M'))\n",
        "\n",
        "plt.show()"
      ]
    },
    {
      "cell_type": "markdown",
      "metadata": {
        "id": "8OYrWyiOa-qs",
        "papermill": {
          "duration": 0.047152,
          "end_time": "2020-10-20T21:34:11.681371",
          "exception": false,
          "start_time": "2020-10-20T21:34:11.634219",
          "status": "completed"
        },
        "tags": []
      },
      "source": [
        "# Chart the Number of Launches over Time by the Top 10 Organisations. \n",
        "\n",
        "How has the dominance of launches changed over time between the different players? "
      ]
    },
    {
      "cell_type": "code",
      "execution_count": null,
      "metadata": {
        "id": "1IgfafiyqWEe"
      },
      "outputs": [],
      "source": [
        "if isinstance(df['Organisation'].dtype, pd.CategoricalDtype):\n",
        "    df['Organisation'] = df['Organisation'].cat.codes\n",
        "elif df['Organisation'].dtype == 'object' and isinstance(df['Organisation'].iloc[0], (list, tuple)):\n",
        "    df['Organisation'] = df['Organisation'].apply(lambda x: x[0])\n",
        "    \n",
        "# Get the top 10 organizations by total number of launches\n",
        "top_10_orgs = df['Organisation'].value_counts().nlargest(10).index\n",
        "\n",
        "# Filter the dataframe to include only the top 10 organizations\n",
        "df_top_10 = df[df['Organisation'].isin(top_10_orgs)]\n"
      ]
    },
    {
      "cell_type": "code",
      "execution_count": null,
      "metadata": {
        "id": "akCDKT8CqVjG"
      },
      "outputs": [],
      "source": [
        "launches_by_org_year = df_top_10.groupby(['Organisation', 'Year']).size().unstack(fill_value=0)\n",
        "\n",
        "# Create the line graph\n",
        "plt.figure(figsize=(15, 8))\n",
        "\n",
        "for org in launches_by_org_year.index:\n",
        "    plt.plot(launches_by_org_year.columns, launches_by_org_year.loc[org], label=org, marker='o')\n",
        "\n",
        "plt.title('Number of Launches Over Time by Top 10 Organizations')\n",
        "plt.xlabel('Year')\n",
        "plt.ylabel('Number of Launches')\n",
        "plt.legend(title='Organization', bbox_to_anchor=(1.05, 1), loc='upper left')\n",
        "plt.grid(True)\n",
        "plt.tight_layout()\n",
        "plt.show()"
      ]
    },
    {
      "cell_type": "markdown",
      "metadata": {
        "id": "6Cm8_ch6a-q7",
        "papermill": {
          "duration": 0.052399,
          "end_time": "2020-10-20T21:34:13.756781",
          "exception": false,
          "start_time": "2020-10-20T21:34:13.704382",
          "status": "completed"
        },
        "tags": []
      },
      "source": [
        "# Cold War Space Race: USA vs USSR\n",
        "\n",
        "The cold war lasted from the start of the dataset up until 1991. "
      ]
    },
    {
      "cell_type": "code",
      "execution_count": null,
      "metadata": {
        "id": "AcE_U8csrICL"
      },
      "outputs": [],
      "source": [
        "df1 = df[df['Year'] <= 1991].copy()\n",
        "df1.reset_index(drop=True, inplace=True)"
      ]
    },
    {
      "cell_type": "code",
      "execution_count": null,
      "metadata": {
        "id": "cOe_t4OmrHr9"
      },
      "outputs": [],
      "source": [
        "df1.describe()"
      ]
    },
    {
      "cell_type": "markdown",
      "metadata": {
        "id": "Os-3A5vLa-q9",
        "papermill": {
          "duration": 0.054318,
          "end_time": "2020-10-20T21:34:14.089604",
          "exception": false,
          "start_time": "2020-10-20T21:34:14.035286",
          "status": "completed"
        },
        "tags": []
      },
      "source": [
        "## Create a Plotly Pie Chart comparing the total number of launches of the USSR and the USA\n",
        "\n",
        "Hint: Remember to include former Soviet Republics like Kazakhstan when analysing the total number of launches. "
      ]
    },
    {
      "cell_type": "code",
      "execution_count": null,
      "metadata": {
        "id": "1irc6_W9rD59"
      },
      "outputs": [],
      "source": [
        "ussr_countries = ['USSR', 'Russia', 'Kazakhstan', 'Ukraine']\\\n",
        "    \n",
        "def categorize_country(country):\n",
        "    if country in ussr_countries:\n",
        "        return 'USSR'\n",
        "    elif country == 'USA':\n",
        "        return 'USA'\n",
        "    else:\n",
        "        return 'Other'\n",
        "    \n",
        "df1['Launch_Group'] = df1['Country'].apply(categorize_country)\n",
        "launch_counts = df1['Launch_Group'].value_counts()"
      ]
    },
    {
      "cell_type": "code",
      "execution_count": null,
      "metadata": {
        "id": "OhhuLQycrEE-"
      },
      "outputs": [],
      "source": [
        "# Create the pie chart\n",
        "plt.figure(figsize=(10, 8))\n",
        "plt.pie(launch_counts.values, labels=launch_counts.index, autopct='%1.1f%%', startangle=90, colors=['#ff9999','#66b3ff','#99ff99'])\n",
        "plt.title(\"Comparison of Launches: USSR vs USA during Cold War (up to 1991)\")\n",
        "\n",
        "# Add a circle at the center to create a donut chart effect\n",
        "center_circle = plt.Circle((0,0), 0.70, fc='white')\n",
        "fig = plt.gcf()\n",
        "fig.gca().add_artist(center_circle)\n",
        "\n",
        "# Add annotation in the center\n",
        "plt.annotate('Cold War\\nSpace Race', xy=(0, 0), xytext=(0, 0), ha='center', va='center')\n",
        "\n",
        "# Equal aspect ratio ensures that pie is drawn as a circle\n",
        "plt.axis('equal')  \n",
        "\n",
        "# Show the chart\n",
        "plt.show()"
      ]
    },
    {
      "cell_type": "markdown",
      "metadata": {
        "id": "eWv4iZmra-rE",
        "papermill": {
          "duration": 0.079311,
          "end_time": "2020-10-20T21:34:14.933058",
          "exception": false,
          "start_time": "2020-10-20T21:34:14.853747",
          "status": "completed"
        },
        "tags": []
      },
      "source": [
        "## Chart the Total Number of Mission Failures Year on Year."
      ]
    },
    {
      "cell_type": "code",
      "execution_count": null,
      "metadata": {
        "id": "I-Zss5-Mre-4"
      },
      "outputs": [],
      "source": [
        "def is_failure(status):\n",
        "    return 'Failure' in status or 'failure' in status\n",
        "\n",
        "\n",
        "# Create a new column for mission failure\n",
        "df1['Is_Failure'] = df1['Mission_Status'].apply(is_failure)\n",
        "\n",
        "# Group by year and count failures\n",
        "failures_by_year = df1[df1['Is_Failure']].groupby('Year').size().reset_index(name='Failures')"
      ]
    },
    {
      "cell_type": "code",
      "execution_count": null,
      "metadata": {
        "id": "7Ps9Iq_crfYl"
      },
      "outputs": [],
      "source": [
        "# Create the bar chart with a smaller, more standard size\n",
        "plt.figure(figsize=(10, 6))  # Adjusted figure size\n",
        "plt.bar(failures_by_year['Year'], failures_by_year['Failures'], color='red', alpha=0.7)\n",
        "\n",
        "# Customize the chart\n",
        "plt.title('Total Number of Mission Failures Year on Year (Cold War Period)', fontsize=14)\n",
        "plt.xlabel('Year', fontsize=10)\n",
        "plt.ylabel('Number of Failures', fontsize=10)\n",
        "plt.grid(axis='y', linestyle='--', alpha=0.7)\n",
        "\n",
        "# Rotate x-axis labels for better readability\n",
        "plt.xticks(rotation=45, ha='right', fontsize=8)\n",
        "\n",
        "# Add value labels on top of each bar\n",
        "for i, v in enumerate(failures_by_year['Failures']):\n",
        "    plt.text(failures_by_year['Year'][i], v, str(v), ha='center', va='bottom', fontsize=8)\n",
        "\n",
        "plt.tight_layout()\n",
        "\n",
        "# Show the chart\n",
        "plt.show()"
      ]
    },
    {
      "cell_type": "markdown",
      "metadata": {
        "id": "XNp-NkrJriEF"
      },
      "source": [
        "## Chart the Percentage of Failures over Time\n",
        "\n",
        "Did failures go up or down over time? Did the countries get better at minimising risk and improving their chances of success over time? "
      ]
    },
    {
      "cell_type": "code",
      "execution_count": null,
      "metadata": {},
      "outputs": [],
      "source": [
        "df1.head()"
      ]
    },
    {
      "cell_type": "code",
      "execution_count": null,
      "metadata": {
        "id": "Kj3-zsI0rhOS"
      },
      "outputs": [],
      "source": [
        "# Group by year and calculate failure percentage\n",
        "yearly_stats = df1.groupby('Year').agg({\n",
        "    'Is_Failure': ['sum', 'count']\n",
        "}).reset_index()\n",
        "\n",
        "yearly_stats.columns = ['Year', 'Failures', 'Total_Launches']\n",
        "yearly_stats['Failure_Percentage'] = (yearly_stats['Failures'] / yearly_stats['Total_Launches']) * 100"
      ]
    },
    {
      "cell_type": "code",
      "execution_count": null,
      "metadata": {
        "id": "nxnnzx89rwvH"
      },
      "outputs": [],
      "source": [
        "# Create the line plot\n",
        "plt.figure(figsize=(12, 6))\n",
        "plt.plot(yearly_stats['Year'], yearly_stats['Failure_Percentage'], marker='o')\n",
        "\n",
        "# Customize the chart\n",
        "plt.title('Percentage of Mission Failures Over Time (Cold War Period)', fontsize=14)\n",
        "plt.xlabel('Year', fontsize=12)\n",
        "plt.ylabel('Failure Percentage', fontsize=12)\n",
        "plt.grid(True, linestyle='--', alpha=0.7)\n",
        "\n",
        "# Rotate x-axis labels for better readability\n",
        "plt.xticks(rotation=45, ha='right')\n",
        "\n",
        "# Add percentage labels\n",
        "for i, txt in enumerate(yearly_stats['Failure_Percentage']):\n",
        "    plt.annotate(f\"{txt:.1f}%\", (yearly_stats['Year'][i], txt), textcoords=\"offset points\", xytext=(0,10), ha='center')\n",
        "\n",
        "plt.tight_layout()\n",
        "\n",
        "# Show the chart\n",
        "plt.show()"
      ]
    },
    {
      "cell_type": "markdown",
      "metadata": {
        "id": "jQcqBfJ8serG"
      },
      "source": [
        "# Create a Year-on-Year Chart Showing the Organisation Doing the Most Number of Launches\n",
        "\n",
        "Which organisation was dominant in the 1970s and 1980s? Which organisation was dominant in 2018, 2019 and 2020? "
      ]
    },
    {
      "cell_type": "code",
      "execution_count": null,
      "metadata": {
        "id": "r5frxzwlsz5W"
      },
      "outputs": [],
      "source": [
        "# Group by Year and Organisation, count launches, and find the organization with max launches for each year\n",
        "yearly_dominant_org = df.groupby(['Year', 'Organisation']).size().reset_index(name='Launches')\n",
        "yearly_dominant_org = yearly_dominant_org.loc[yearly_dominant_org.groupby('Year')['Launches'].idxmax()]\n",
        "# Sort by Year\n",
        "yearly_dominant_org = yearly_dominant_org.sort_values('Year')"
      ]
    },
    {
      "cell_type": "code",
      "execution_count": null,
      "metadata": {
        "id": "8vHKpuc5a-rc",
        "papermill": {
          "duration": 0.092403,
          "end_time": "2020-10-20T21:34:26.709168",
          "exception": false,
          "start_time": "2020-10-20T21:34:26.616765",
          "status": "completed"
        },
        "tags": []
      },
      "outputs": [],
      "source": [
        "plt.figure(figsize=(20, 10))\n",
        "bars = plt.bar(yearly_dominant_org['Year'], yearly_dominant_org['Launches'], color='skyblue')\n",
        "\n",
        "# Customize the chart\n",
        "plt.title('Organisation with Most Launches Year-on-Year', fontsize=16)\n",
        "plt.xlabel('Year', fontsize=12)\n",
        "plt.ylabel('Number of Launches', fontsize=12)\n",
        "plt.grid(axis='y', linestyle='--', alpha=0.7)\n",
        "\n",
        "# Rotate x-axis labels for better readability\n",
        "plt.xticks(yearly_dominant_org['Year'], rotation=90, ha='center')\n",
        "\n",
        "# Add organization labels on top of each bar\n",
        "for bar in bars:\n",
        "    year = bar.get_x() + bar.get_width() / 2\n",
        "    org = yearly_dominant_org.loc[yearly_dominant_org['Year'] == int(year), 'Organisation'].values[0]\n",
        "    plt.text(year, bar.get_height(), org, ha='center', va='bottom', rotation=90, fontsize=8)\n",
        "\n",
        "plt.tight_layout()\n",
        "\n",
        "# Show the chart\n",
        "plt.show()"
      ]
    },
    {
      "cell_type": "code",
      "execution_count": null,
      "metadata": {},
      "outputs": [],
      "source": [
        "print(\"Dominant organizations in the 1970s:\")\n",
        "print(yearly_dominant_org[yearly_dominant_org['Year'].between(1970, 1979)])"
      ]
    },
    {
      "cell_type": "code",
      "execution_count": null,
      "metadata": {},
      "outputs": [],
      "source": [
        "print(\"\\nDominant organizations in the 1980s:\")\n",
        "print(yearly_dominant_org[yearly_dominant_org['Year'].between(1980, 1989)])"
      ]
    },
    {
      "cell_type": "code",
      "execution_count": null,
      "metadata": {},
      "outputs": [],
      "source": [
        "print(\"\\nDominant organizations in 2018, 2019, and 2020:\")\n",
        "print(yearly_dominant_org[yearly_dominant_org['Year'].isin([2018, 2019, 2020])])"
      ]
    },
    {
      "cell_type": "markdown",
      "metadata": {},
      "source": [
        "# That's the end for now"
      ]
    }
  ],
  "metadata": {
    "colab": {
      "name": "Space Missions Analysis (start).ipynb",
      "provenance": []
    },
    "kernelspec": {
      "display_name": "Python 3",
      "language": "python",
      "name": "python3"
    },
    "language_info": {
      "codemirror_mode": {
        "name": "ipython",
        "version": 3
      },
      "file_extension": ".py",
      "mimetype": "text/x-python",
      "name": "python",
      "nbconvert_exporter": "python",
      "pygments_lexer": "ipython3",
      "version": "3.12.3"
    },
    "papermill": {
      "duration": 28.468597,
      "end_time": "2020-10-20T21:34:26.910951",
      "environment_variables": {},
      "exception": null,
      "input_path": "__notebook__.ipynb",
      "output_path": "__notebook__.ipynb",
      "parameters": {},
      "start_time": "2020-10-20T21:33:58.442354",
      "version": "2.1.0"
    }
  },
  "nbformat": 4,
  "nbformat_minor": 0
}
